{
 "cells": [
  {
   "cell_type": "code",
   "execution_count": 1,
   "metadata": {},
   "outputs": [],
   "source": [
    "import pandas as pd\n",
    "import numpy as np                          #Importing necessary liabraries\n",
    "import matplotlib.pyplot as plt\n",
    "import seaborn as sns\n",
    "import csv\n",
    "from sklearn.preprocessing import LabelEncoder\n",
    "from sklearn.model_selection import train_test_split\n",
    "from sklearn.preprocessing import StandardScaler\n",
    "from sklearn.ensemble import RandomForestRegressor\n",
    "from sklearn.metrics import mean_squared_error\n",
    "from sklearn.ensemble import RandomForestClassifier"
   ]
  },
  {
   "cell_type": "code",
   "execution_count": 2,
   "metadata": {},
   "outputs": [],
   "source": [
    "rows=[]\n",
    "with open(\"salary,satisfaction.csv\",errors='ignore') as my_file:  #importing dataset which is in csv format\n",
    "    for row in csv.reader(my_file):\n",
    "        rows.append(row)"
   ]
  },
  {
   "cell_type": "code",
   "execution_count": 3,
   "metadata": {},
   "outputs": [
    {
     "data": {
      "text/html": [
       "<div>\n",
       "<style scoped>\n",
       "    .dataframe tbody tr th:only-of-type {\n",
       "        vertical-align: middle;\n",
       "    }\n",
       "\n",
       "    .dataframe tbody tr th {\n",
       "        vertical-align: top;\n",
       "    }\n",
       "\n",
       "    .dataframe thead th {\n",
       "        text-align: right;\n",
       "    }\n",
       "</style>\n",
       "<table border=\"1\" class=\"dataframe\">\n",
       "  <thead>\n",
       "    <tr style=\"text-align: right;\">\n",
       "      <th></th>\n",
       "      <th>0</th>\n",
       "      <th>1</th>\n",
       "      <th>2</th>\n",
       "      <th>3</th>\n",
       "      <th>4</th>\n",
       "      <th>5</th>\n",
       "      <th>6</th>\n",
       "      <th>7</th>\n",
       "      <th>8</th>\n",
       "      <th>9</th>\n",
       "      <th>...</th>\n",
       "      <th>73</th>\n",
       "      <th>74</th>\n",
       "      <th>75</th>\n",
       "      <th>76</th>\n",
       "      <th>77</th>\n",
       "      <th>78</th>\n",
       "      <th>79</th>\n",
       "      <th>80</th>\n",
       "      <th>81</th>\n",
       "      <th>82</th>\n",
       "    </tr>\n",
       "  </thead>\n",
       "  <tbody>\n",
       "    <tr>\n",
       "      <th>0</th>\n",
       "      <td>id</td>\n",
       "      <td>Target_Salary</td>\n",
       "      <td>Target_Satisfied</td>\n",
       "      <td>LOAN_AMT</td>\n",
       "      <td>Business Title</td>\n",
       "      <td>Civil Service Title</td>\n",
       "      <td>Division/Work Unit</td>\n",
       "      <td>Job Description</td>\n",
       "      <td>Minimum Qual Requirements</td>\n",
       "      <td>Preferred Skills</td>\n",
       "      <td>...</td>\n",
       "      <td>homeaddress</td>\n",
       "      <td>latitude</td>\n",
       "      <td>longitude</td>\n",
       "      <td>PHONE</td>\n",
       "      <td>officeaddress</td>\n",
       "      <td>website</td>\n",
       "      <td>dateAdded</td>\n",
       "      <td>previousaddress</td>\n",
       "      <td>phones</td>\n",
       "      <td>CrimeTime</td>\n",
       "    </tr>\n",
       "    <tr>\n",
       "      <th>1</th>\n",
       "      <td>68407277</td>\n",
       "      <td>42405</td>\n",
       "      <td>0</td>\n",
       "      <td>$3,600.00</td>\n",
       "      <td>Account Manager</td>\n",
       "      <td>CONTRACT REVIEWER (OFFICE OF L</td>\n",
       "      <td>Strategy &amp; Analytics</td>\n",
       "      <td>Division of Economic &amp; Financial Opportunity (...</td>\n",
       "      <td>1.\\tA baccalaureate degree from an accredited ...</td>\n",
       "      <td>â€¢\\tExcellent interpersonal and organizationa...</td>\n",
       "      <td>...</td>\n",
       "      <td>346 W Magnolia Ave Auburn, AL 36832 US</td>\n",
       "      <td>32.60681297</td>\n",
       "      <td>-85.48732833</td>\n",
       "      <td>(91) 555 22 82</td>\n",
       "      <td>PO Box 4653, Stockton, California, 95204</td>\n",
       "      <td>http://www.valleybrew.com/</td>\n",
       "      <td>2016-04-22T02:47:48Z</td>\n",
       "      <td>1045 San Pablo Ave</td>\n",
       "      <td>(510) 528-2375</td>\n",
       "      <td>23:30:00</td>\n",
       "    </tr>\n",
       "    <tr>\n",
       "      <th>2</th>\n",
       "      <td>68355089</td>\n",
       "      <td>60740</td>\n",
       "      <td>1</td>\n",
       "      <td>$24,700.00</td>\n",
       "      <td>EXECUTIVE DIRECTOR, BUSINESS DEVELOPMENT</td>\n",
       "      <td>ADMINISTRATIVE BUSINESS PROMOT</td>\n",
       "      <td>Tech Talent Pipeline</td>\n",
       "      <td>The New York City Department of Small Business...</td>\n",
       "      <td>1. A baccalaureate degree from an accredited c...</td>\n",
       "      <td></td>\n",
       "      <td>...</td>\n",
       "      <td>300 20th St S Birmingham, AL 35233 US</td>\n",
       "      <td>33.5097215</td>\n",
       "      <td>-86.80275567</td>\n",
       "      <td></td>\n",
       "      <td>157 Adams St., Stockton, California, 95204</td>\n",
       "      <td>http://www.valleybrew.com/</td>\n",
       "      <td>2016-04-22T02:47:48Z</td>\n",
       "      <td>1045 San Pablo Ave</td>\n",
       "      <td>(510) 528-2375</td>\n",
       "      <td>23:00:00</td>\n",
       "    </tr>\n",
       "    <tr>\n",
       "      <th>3</th>\n",
       "      <td>68341763</td>\n",
       "      <td>51907.68</td>\n",
       "      <td>0</td>\n",
       "      <td>$20,000.00</td>\n",
       "      <td>Maintenance Worker - Technical Services-Heatin...</td>\n",
       "      <td>MAINTENANCE WORKER</td>\n",
       "      <td>Management Services Department</td>\n",
       "      <td>Under direct supervision, assist in the routin...</td>\n",
       "      <td>1. Three years of full-time satisfactory exper...</td>\n",
       "      <td>1.  A High School Diploma or GED.  2.  CDL Dri...</td>\n",
       "      <td>...</td>\n",
       "      <td>3220 Morrow Rd Birmingham, AL 35235 US</td>\n",
       "      <td>33.59558141</td>\n",
       "      <td>-86.64743685</td>\n",
       "      <td></td>\n",
       "      <td>1950 W Freemont, Stockton, California, 95203</td>\n",
       "      <td>http://www.valleybrew.com/</td>\n",
       "      <td>2016-04-22T02:47:48Z</td>\n",
       "      <td>1045 San Pablo Ave</td>\n",
       "      <td>(510) 528-2375</td>\n",
       "      <td>22:53:00</td>\n",
       "    </tr>\n",
       "    <tr>\n",
       "      <th>4</th>\n",
       "      <td>66310712</td>\n",
       "      <td>51907.68</td>\n",
       "      <td>0</td>\n",
       "      <td>$35,000.00</td>\n",
       "      <td>Maintenance Worker - Technical Services-Heatin...</td>\n",
       "      <td>MAINTENANCE WORKER</td>\n",
       "      <td>Management Services Department</td>\n",
       "      <td>Under direct supervision, assist in the routin...</td>\n",
       "      <td>1. Three years of full-time satisfactory exper...</td>\n",
       "      <td>1.  A High School Diploma or GED.  2.  CDL Dri...</td>\n",
       "      <td>...</td>\n",
       "      <td>4719 Highway 280 Birmingham, AL 35242 US</td>\n",
       "      <td>33.42258215</td>\n",
       "      <td>-86.69827947</td>\n",
       "      <td>2125557818</td>\n",
       "      <td>102 S. State St., Ukiah, California, 95482</td>\n",
       "      <td>http://www.ukiahbrewingco.com/</td>\n",
       "      <td>2016-04-22T02:47:48Z</td>\n",
       "      <td>1045 San Pablo Ave</td>\n",
       "      <td>(510) 528-2375</td>\n",
       "      <td>22:50:00</td>\n",
       "    </tr>\n",
       "  </tbody>\n",
       "</table>\n",
       "<p>5 rows × 83 columns</p>\n",
       "</div>"
      ],
      "text/plain": [
       "         0              1                 2            3   \\\n",
       "0        id  Target_Salary  Target_Satisfied     LOAN_AMT   \n",
       "1  68407277          42405                 0   $3,600.00    \n",
       "2  68355089          60740                 1  $24,700.00    \n",
       "3  68341763       51907.68                 0  $20,000.00    \n",
       "4  66310712       51907.68                 0  $35,000.00    \n",
       "\n",
       "                                                  4   \\\n",
       "0                                     Business Title   \n",
       "1                                    Account Manager   \n",
       "2           EXECUTIVE DIRECTOR, BUSINESS DEVELOPMENT   \n",
       "3  Maintenance Worker - Technical Services-Heatin...   \n",
       "4  Maintenance Worker - Technical Services-Heatin...   \n",
       "\n",
       "                               5                               6   \\\n",
       "0             Civil Service Title              Division/Work Unit   \n",
       "1  CONTRACT REVIEWER (OFFICE OF L            Strategy & Analytics   \n",
       "2  ADMINISTRATIVE BUSINESS PROMOT            Tech Talent Pipeline   \n",
       "3              MAINTENANCE WORKER  Management Services Department   \n",
       "4              MAINTENANCE WORKER  Management Services Department   \n",
       "\n",
       "                                                  7   \\\n",
       "0                                    Job Description   \n",
       "1  Division of Economic & Financial Opportunity (...   \n",
       "2  The New York City Department of Small Business...   \n",
       "3  Under direct supervision, assist in the routin...   \n",
       "4  Under direct supervision, assist in the routin...   \n",
       "\n",
       "                                                  8   \\\n",
       "0                          Minimum Qual Requirements   \n",
       "1  1.\\tA baccalaureate degree from an accredited ...   \n",
       "2  1. A baccalaureate degree from an accredited c...   \n",
       "3  1. Three years of full-time satisfactory exper...   \n",
       "4  1. Three years of full-time satisfactory exper...   \n",
       "\n",
       "                                                  9   ...  \\\n",
       "0                                   Preferred Skills  ...   \n",
       "1  â€¢\\tExcellent interpersonal and organizationa...  ...   \n",
       "2                                                     ...   \n",
       "3  1.  A High School Diploma or GED.  2.  CDL Dri...  ...   \n",
       "4  1.  A High School Diploma or GED.  2.  CDL Dri...  ...   \n",
       "\n",
       "                                         73           74            75  \\\n",
       "0                               homeaddress     latitude     longitude   \n",
       "1    346 W Magnolia Ave Auburn, AL 36832 US  32.60681297  -85.48732833   \n",
       "2     300 20th St S Birmingham, AL 35233 US   33.5097215  -86.80275567   \n",
       "3    3220 Morrow Rd Birmingham, AL 35235 US  33.59558141  -86.64743685   \n",
       "4  4719 Highway 280 Birmingham, AL 35242 US  33.42258215  -86.69827947   \n",
       "\n",
       "               76                                            77  \\\n",
       "0           PHONE                                 officeaddress   \n",
       "1  (91) 555 22 82      PO Box 4653, Stockton, California, 95204   \n",
       "2                    157 Adams St., Stockton, California, 95204   \n",
       "3                  1950 W Freemont, Stockton, California, 95203   \n",
       "4      2125557818    102 S. State St., Ukiah, California, 95482   \n",
       "\n",
       "                               78                    79                  80  \\\n",
       "0                         website             dateAdded     previousaddress   \n",
       "1      http://www.valleybrew.com/  2016-04-22T02:47:48Z  1045 San Pablo Ave   \n",
       "2      http://www.valleybrew.com/  2016-04-22T02:47:48Z  1045 San Pablo Ave   \n",
       "3      http://www.valleybrew.com/  2016-04-22T02:47:48Z  1045 San Pablo Ave   \n",
       "4  http://www.ukiahbrewingco.com/  2016-04-22T02:47:48Z  1045 San Pablo Ave   \n",
       "\n",
       "               81         82  \n",
       "0          phones  CrimeTime  \n",
       "1  (510) 528-2375   23:30:00  \n",
       "2  (510) 528-2375   23:00:00  \n",
       "3  (510) 528-2375   22:53:00  \n",
       "4  (510) 528-2375   22:50:00  \n",
       "\n",
       "[5 rows x 83 columns]"
      ]
     },
     "execution_count": 3,
     "metadata": {},
     "output_type": "execute_result"
    }
   ],
   "source": [
    "df=pd.DataFrame(rows)\n",
    "df.head()"
   ]
  },
  {
   "cell_type": "code",
   "execution_count": 4,
   "metadata": {},
   "outputs": [],
   "source": [
    "df=df.rename(columns=df.loc[0])      "
   ]
  },
  {
   "cell_type": "code",
   "execution_count": 5,
   "metadata": {
    "scrolled": true
   },
   "outputs": [
    {
     "data": {
      "text/html": [
       "<div>\n",
       "<style scoped>\n",
       "    .dataframe tbody tr th:only-of-type {\n",
       "        vertical-align: middle;\n",
       "    }\n",
       "\n",
       "    .dataframe tbody tr th {\n",
       "        vertical-align: top;\n",
       "    }\n",
       "\n",
       "    .dataframe thead th {\n",
       "        text-align: right;\n",
       "    }\n",
       "</style>\n",
       "<table border=\"1\" class=\"dataframe\">\n",
       "  <thead>\n",
       "    <tr style=\"text-align: right;\">\n",
       "      <th></th>\n",
       "      <th>id</th>\n",
       "      <th>Target_Salary</th>\n",
       "      <th>Target_Satisfied</th>\n",
       "      <th>LOAN_AMT</th>\n",
       "      <th>Business Title</th>\n",
       "      <th>Civil Service Title</th>\n",
       "      <th>Division/Work Unit</th>\n",
       "      <th>Job Description</th>\n",
       "      <th>Minimum Qual Requirements</th>\n",
       "      <th>Preferred Skills</th>\n",
       "      <th>...</th>\n",
       "      <th>homeaddress</th>\n",
       "      <th>latitude</th>\n",
       "      <th>longitude</th>\n",
       "      <th>PHONE</th>\n",
       "      <th>officeaddress</th>\n",
       "      <th>website</th>\n",
       "      <th>dateAdded</th>\n",
       "      <th>previousaddress</th>\n",
       "      <th>phones</th>\n",
       "      <th>CrimeTime</th>\n",
       "    </tr>\n",
       "  </thead>\n",
       "  <tbody>\n",
       "    <tr>\n",
       "      <th>0</th>\n",
       "      <td>id</td>\n",
       "      <td>Target_Salary</td>\n",
       "      <td>Target_Satisfied</td>\n",
       "      <td>LOAN_AMT</td>\n",
       "      <td>Business Title</td>\n",
       "      <td>Civil Service Title</td>\n",
       "      <td>Division/Work Unit</td>\n",
       "      <td>Job Description</td>\n",
       "      <td>Minimum Qual Requirements</td>\n",
       "      <td>Preferred Skills</td>\n",
       "      <td>...</td>\n",
       "      <td>homeaddress</td>\n",
       "      <td>latitude</td>\n",
       "      <td>longitude</td>\n",
       "      <td>PHONE</td>\n",
       "      <td>officeaddress</td>\n",
       "      <td>website</td>\n",
       "      <td>dateAdded</td>\n",
       "      <td>previousaddress</td>\n",
       "      <td>phones</td>\n",
       "      <td>CrimeTime</td>\n",
       "    </tr>\n",
       "    <tr>\n",
       "      <th>1</th>\n",
       "      <td>68407277</td>\n",
       "      <td>42405</td>\n",
       "      <td>0</td>\n",
       "      <td>$3,600.00</td>\n",
       "      <td>Account Manager</td>\n",
       "      <td>CONTRACT REVIEWER (OFFICE OF L</td>\n",
       "      <td>Strategy &amp; Analytics</td>\n",
       "      <td>Division of Economic &amp; Financial Opportunity (...</td>\n",
       "      <td>1.\\tA baccalaureate degree from an accredited ...</td>\n",
       "      <td>â€¢\\tExcellent interpersonal and organizationa...</td>\n",
       "      <td>...</td>\n",
       "      <td>346 W Magnolia Ave Auburn, AL 36832 US</td>\n",
       "      <td>32.60681297</td>\n",
       "      <td>-85.48732833</td>\n",
       "      <td>(91) 555 22 82</td>\n",
       "      <td>PO Box 4653, Stockton, California, 95204</td>\n",
       "      <td>http://www.valleybrew.com/</td>\n",
       "      <td>2016-04-22T02:47:48Z</td>\n",
       "      <td>1045 San Pablo Ave</td>\n",
       "      <td>(510) 528-2375</td>\n",
       "      <td>23:30:00</td>\n",
       "    </tr>\n",
       "    <tr>\n",
       "      <th>2</th>\n",
       "      <td>68355089</td>\n",
       "      <td>60740</td>\n",
       "      <td>1</td>\n",
       "      <td>$24,700.00</td>\n",
       "      <td>EXECUTIVE DIRECTOR, BUSINESS DEVELOPMENT</td>\n",
       "      <td>ADMINISTRATIVE BUSINESS PROMOT</td>\n",
       "      <td>Tech Talent Pipeline</td>\n",
       "      <td>The New York City Department of Small Business...</td>\n",
       "      <td>1. A baccalaureate degree from an accredited c...</td>\n",
       "      <td></td>\n",
       "      <td>...</td>\n",
       "      <td>300 20th St S Birmingham, AL 35233 US</td>\n",
       "      <td>33.5097215</td>\n",
       "      <td>-86.80275567</td>\n",
       "      <td></td>\n",
       "      <td>157 Adams St., Stockton, California, 95204</td>\n",
       "      <td>http://www.valleybrew.com/</td>\n",
       "      <td>2016-04-22T02:47:48Z</td>\n",
       "      <td>1045 San Pablo Ave</td>\n",
       "      <td>(510) 528-2375</td>\n",
       "      <td>23:00:00</td>\n",
       "    </tr>\n",
       "    <tr>\n",
       "      <th>3</th>\n",
       "      <td>68341763</td>\n",
       "      <td>51907.68</td>\n",
       "      <td>0</td>\n",
       "      <td>$20,000.00</td>\n",
       "      <td>Maintenance Worker - Technical Services-Heatin...</td>\n",
       "      <td>MAINTENANCE WORKER</td>\n",
       "      <td>Management Services Department</td>\n",
       "      <td>Under direct supervision, assist in the routin...</td>\n",
       "      <td>1. Three years of full-time satisfactory exper...</td>\n",
       "      <td>1.  A High School Diploma or GED.  2.  CDL Dri...</td>\n",
       "      <td>...</td>\n",
       "      <td>3220 Morrow Rd Birmingham, AL 35235 US</td>\n",
       "      <td>33.59558141</td>\n",
       "      <td>-86.64743685</td>\n",
       "      <td></td>\n",
       "      <td>1950 W Freemont, Stockton, California, 95203</td>\n",
       "      <td>http://www.valleybrew.com/</td>\n",
       "      <td>2016-04-22T02:47:48Z</td>\n",
       "      <td>1045 San Pablo Ave</td>\n",
       "      <td>(510) 528-2375</td>\n",
       "      <td>22:53:00</td>\n",
       "    </tr>\n",
       "    <tr>\n",
       "      <th>4</th>\n",
       "      <td>66310712</td>\n",
       "      <td>51907.68</td>\n",
       "      <td>0</td>\n",
       "      <td>$35,000.00</td>\n",
       "      <td>Maintenance Worker - Technical Services-Heatin...</td>\n",
       "      <td>MAINTENANCE WORKER</td>\n",
       "      <td>Management Services Department</td>\n",
       "      <td>Under direct supervision, assist in the routin...</td>\n",
       "      <td>1. Three years of full-time satisfactory exper...</td>\n",
       "      <td>1.  A High School Diploma or GED.  2.  CDL Dri...</td>\n",
       "      <td>...</td>\n",
       "      <td>4719 Highway 280 Birmingham, AL 35242 US</td>\n",
       "      <td>33.42258215</td>\n",
       "      <td>-86.69827947</td>\n",
       "      <td>2125557818</td>\n",
       "      <td>102 S. State St., Ukiah, California, 95482</td>\n",
       "      <td>http://www.ukiahbrewingco.com/</td>\n",
       "      <td>2016-04-22T02:47:48Z</td>\n",
       "      <td>1045 San Pablo Ave</td>\n",
       "      <td>(510) 528-2375</td>\n",
       "      <td>22:50:00</td>\n",
       "    </tr>\n",
       "  </tbody>\n",
       "</table>\n",
       "<p>5 rows × 83 columns</p>\n",
       "</div>"
      ],
      "text/plain": [
       "         id  Target_Salary  Target_Satisfied     LOAN_AMT  \\\n",
       "0        id  Target_Salary  Target_Satisfied     LOAN_AMT   \n",
       "1  68407277          42405                 0   $3,600.00    \n",
       "2  68355089          60740                 1  $24,700.00    \n",
       "3  68341763       51907.68                 0  $20,000.00    \n",
       "4  66310712       51907.68                 0  $35,000.00    \n",
       "\n",
       "                                      Business Title  \\\n",
       "0                                     Business Title   \n",
       "1                                    Account Manager   \n",
       "2           EXECUTIVE DIRECTOR, BUSINESS DEVELOPMENT   \n",
       "3  Maintenance Worker - Technical Services-Heatin...   \n",
       "4  Maintenance Worker - Technical Services-Heatin...   \n",
       "\n",
       "              Civil Service Title              Division/Work Unit  \\\n",
       "0             Civil Service Title              Division/Work Unit   \n",
       "1  CONTRACT REVIEWER (OFFICE OF L            Strategy & Analytics   \n",
       "2  ADMINISTRATIVE BUSINESS PROMOT            Tech Talent Pipeline   \n",
       "3              MAINTENANCE WORKER  Management Services Department   \n",
       "4              MAINTENANCE WORKER  Management Services Department   \n",
       "\n",
       "                                     Job Description  \\\n",
       "0                                    Job Description   \n",
       "1  Division of Economic & Financial Opportunity (...   \n",
       "2  The New York City Department of Small Business...   \n",
       "3  Under direct supervision, assist in the routin...   \n",
       "4  Under direct supervision, assist in the routin...   \n",
       "\n",
       "                           Minimum Qual Requirements  \\\n",
       "0                          Minimum Qual Requirements   \n",
       "1  1.\\tA baccalaureate degree from an accredited ...   \n",
       "2  1. A baccalaureate degree from an accredited c...   \n",
       "3  1. Three years of full-time satisfactory exper...   \n",
       "4  1. Three years of full-time satisfactory exper...   \n",
       "\n",
       "                                    Preferred Skills  ...  \\\n",
       "0                                   Preferred Skills  ...   \n",
       "1  â€¢\\tExcellent interpersonal and organizationa...  ...   \n",
       "2                                                     ...   \n",
       "3  1.  A High School Diploma or GED.  2.  CDL Dri...  ...   \n",
       "4  1.  A High School Diploma or GED.  2.  CDL Dri...  ...   \n",
       "\n",
       "                                homeaddress     latitude     longitude  \\\n",
       "0                               homeaddress     latitude     longitude   \n",
       "1    346 W Magnolia Ave Auburn, AL 36832 US  32.60681297  -85.48732833   \n",
       "2     300 20th St S Birmingham, AL 35233 US   33.5097215  -86.80275567   \n",
       "3    3220 Morrow Rd Birmingham, AL 35235 US  33.59558141  -86.64743685   \n",
       "4  4719 Highway 280 Birmingham, AL 35242 US  33.42258215  -86.69827947   \n",
       "\n",
       "            PHONE                                 officeaddress  \\\n",
       "0           PHONE                                 officeaddress   \n",
       "1  (91) 555 22 82      PO Box 4653, Stockton, California, 95204   \n",
       "2                    157 Adams St., Stockton, California, 95204   \n",
       "3                  1950 W Freemont, Stockton, California, 95203   \n",
       "4      2125557818    102 S. State St., Ukiah, California, 95482   \n",
       "\n",
       "                          website             dateAdded     previousaddress  \\\n",
       "0                         website             dateAdded     previousaddress   \n",
       "1      http://www.valleybrew.com/  2016-04-22T02:47:48Z  1045 San Pablo Ave   \n",
       "2      http://www.valleybrew.com/  2016-04-22T02:47:48Z  1045 San Pablo Ave   \n",
       "3      http://www.valleybrew.com/  2016-04-22T02:47:48Z  1045 San Pablo Ave   \n",
       "4  http://www.ukiahbrewingco.com/  2016-04-22T02:47:48Z  1045 San Pablo Ave   \n",
       "\n",
       "           phones  CrimeTime  \n",
       "0          phones  CrimeTime  \n",
       "1  (510) 528-2375   23:30:00  \n",
       "2  (510) 528-2375   23:00:00  \n",
       "3  (510) 528-2375   22:53:00  \n",
       "4  (510) 528-2375   22:50:00  \n",
       "\n",
       "[5 rows x 83 columns]"
      ]
     },
     "execution_count": 5,
     "metadata": {},
     "output_type": "execute_result"
    }
   ],
   "source": [
    "df.head()"
   ]
  },
  {
   "cell_type": "code",
   "execution_count": 6,
   "metadata": {},
   "outputs": [],
   "source": [
    "df.drop(index=df.head(1).index,inplace=True)"
   ]
  },
  {
   "cell_type": "code",
   "execution_count": 7,
   "metadata": {},
   "outputs": [
    {
     "data": {
      "text/html": [
       "<div>\n",
       "<style scoped>\n",
       "    .dataframe tbody tr th:only-of-type {\n",
       "        vertical-align: middle;\n",
       "    }\n",
       "\n",
       "    .dataframe tbody tr th {\n",
       "        vertical-align: top;\n",
       "    }\n",
       "\n",
       "    .dataframe thead th {\n",
       "        text-align: right;\n",
       "    }\n",
       "</style>\n",
       "<table border=\"1\" class=\"dataframe\">\n",
       "  <thead>\n",
       "    <tr style=\"text-align: right;\">\n",
       "      <th></th>\n",
       "      <th>id</th>\n",
       "      <th>Target_Salary</th>\n",
       "      <th>Target_Satisfied</th>\n",
       "      <th>LOAN_AMT</th>\n",
       "      <th>Business Title</th>\n",
       "      <th>Civil Service Title</th>\n",
       "      <th>Division/Work Unit</th>\n",
       "      <th>Job Description</th>\n",
       "      <th>Minimum Qual Requirements</th>\n",
       "      <th>Preferred Skills</th>\n",
       "      <th>...</th>\n",
       "      <th>homeaddress</th>\n",
       "      <th>latitude</th>\n",
       "      <th>longitude</th>\n",
       "      <th>PHONE</th>\n",
       "      <th>officeaddress</th>\n",
       "      <th>website</th>\n",
       "      <th>dateAdded</th>\n",
       "      <th>previousaddress</th>\n",
       "      <th>phones</th>\n",
       "      <th>CrimeTime</th>\n",
       "    </tr>\n",
       "  </thead>\n",
       "  <tbody>\n",
       "    <tr>\n",
       "      <th>1</th>\n",
       "      <td>68407277</td>\n",
       "      <td>42405</td>\n",
       "      <td>0</td>\n",
       "      <td>$3,600.00</td>\n",
       "      <td>Account Manager</td>\n",
       "      <td>CONTRACT REVIEWER (OFFICE OF L</td>\n",
       "      <td>Strategy &amp; Analytics</td>\n",
       "      <td>Division of Economic &amp; Financial Opportunity (...</td>\n",
       "      <td>1.\\tA baccalaureate degree from an accredited ...</td>\n",
       "      <td>â€¢\\tExcellent interpersonal and organizationa...</td>\n",
       "      <td>...</td>\n",
       "      <td>346 W Magnolia Ave Auburn, AL 36832 US</td>\n",
       "      <td>32.60681297</td>\n",
       "      <td>-85.48732833</td>\n",
       "      <td>(91) 555 22 82</td>\n",
       "      <td>PO Box 4653, Stockton, California, 95204</td>\n",
       "      <td>http://www.valleybrew.com/</td>\n",
       "      <td>2016-04-22T02:47:48Z</td>\n",
       "      <td>1045 San Pablo Ave</td>\n",
       "      <td>(510) 528-2375</td>\n",
       "      <td>23:30:00</td>\n",
       "    </tr>\n",
       "    <tr>\n",
       "      <th>2</th>\n",
       "      <td>68355089</td>\n",
       "      <td>60740</td>\n",
       "      <td>1</td>\n",
       "      <td>$24,700.00</td>\n",
       "      <td>EXECUTIVE DIRECTOR, BUSINESS DEVELOPMENT</td>\n",
       "      <td>ADMINISTRATIVE BUSINESS PROMOT</td>\n",
       "      <td>Tech Talent Pipeline</td>\n",
       "      <td>The New York City Department of Small Business...</td>\n",
       "      <td>1. A baccalaureate degree from an accredited c...</td>\n",
       "      <td></td>\n",
       "      <td>...</td>\n",
       "      <td>300 20th St S Birmingham, AL 35233 US</td>\n",
       "      <td>33.5097215</td>\n",
       "      <td>-86.80275567</td>\n",
       "      <td></td>\n",
       "      <td>157 Adams St., Stockton, California, 95204</td>\n",
       "      <td>http://www.valleybrew.com/</td>\n",
       "      <td>2016-04-22T02:47:48Z</td>\n",
       "      <td>1045 San Pablo Ave</td>\n",
       "      <td>(510) 528-2375</td>\n",
       "      <td>23:00:00</td>\n",
       "    </tr>\n",
       "    <tr>\n",
       "      <th>3</th>\n",
       "      <td>68341763</td>\n",
       "      <td>51907.68</td>\n",
       "      <td>0</td>\n",
       "      <td>$20,000.00</td>\n",
       "      <td>Maintenance Worker - Technical Services-Heatin...</td>\n",
       "      <td>MAINTENANCE WORKER</td>\n",
       "      <td>Management Services Department</td>\n",
       "      <td>Under direct supervision, assist in the routin...</td>\n",
       "      <td>1. Three years of full-time satisfactory exper...</td>\n",
       "      <td>1.  A High School Diploma or GED.  2.  CDL Dri...</td>\n",
       "      <td>...</td>\n",
       "      <td>3220 Morrow Rd Birmingham, AL 35235 US</td>\n",
       "      <td>33.59558141</td>\n",
       "      <td>-86.64743685</td>\n",
       "      <td></td>\n",
       "      <td>1950 W Freemont, Stockton, California, 95203</td>\n",
       "      <td>http://www.valleybrew.com/</td>\n",
       "      <td>2016-04-22T02:47:48Z</td>\n",
       "      <td>1045 San Pablo Ave</td>\n",
       "      <td>(510) 528-2375</td>\n",
       "      <td>22:53:00</td>\n",
       "    </tr>\n",
       "    <tr>\n",
       "      <th>4</th>\n",
       "      <td>66310712</td>\n",
       "      <td>51907.68</td>\n",
       "      <td>0</td>\n",
       "      <td>$35,000.00</td>\n",
       "      <td>Maintenance Worker - Technical Services-Heatin...</td>\n",
       "      <td>MAINTENANCE WORKER</td>\n",
       "      <td>Management Services Department</td>\n",
       "      <td>Under direct supervision, assist in the routin...</td>\n",
       "      <td>1. Three years of full-time satisfactory exper...</td>\n",
       "      <td>1.  A High School Diploma or GED.  2.  CDL Dri...</td>\n",
       "      <td>...</td>\n",
       "      <td>4719 Highway 280 Birmingham, AL 35242 US</td>\n",
       "      <td>33.42258215</td>\n",
       "      <td>-86.69827947</td>\n",
       "      <td>2125557818</td>\n",
       "      <td>102 S. State St., Ukiah, California, 95482</td>\n",
       "      <td>http://www.ukiahbrewingco.com/</td>\n",
       "      <td>2016-04-22T02:47:48Z</td>\n",
       "      <td>1045 San Pablo Ave</td>\n",
       "      <td>(510) 528-2375</td>\n",
       "      <td>22:50:00</td>\n",
       "    </tr>\n",
       "    <tr>\n",
       "      <th>5</th>\n",
       "      <td>68476807</td>\n",
       "      <td>35</td>\n",
       "      <td>1</td>\n",
       "      <td>$10,400.00</td>\n",
       "      <td>Temporary Painter</td>\n",
       "      <td>PAINTER</td>\n",
       "      <td>Dept of Management &amp; Planning</td>\n",
       "      <td>Responsibilities of selected candidates will i...</td>\n",
       "      <td>1. Five years of full-time satisfactory experi...</td>\n",
       "      <td></td>\n",
       "      <td>...</td>\n",
       "      <td>1821 Cherokee Ave SW Cullman, AL 35055 US</td>\n",
       "      <td>34.15413377</td>\n",
       "      <td>-86.84122008</td>\n",
       "      <td>26.47.1555</td>\n",
       "      <td>13011 Newport Ave. #100, Tustin, California, 9...</td>\n",
       "      <td>http://www.tustinbrewery.com/</td>\n",
       "      <td>2016-04-22T02:47:48Z</td>\n",
       "      <td>1045 San Pablo Ave</td>\n",
       "      <td>(510) 528-2375</td>\n",
       "      <td>22:31:00</td>\n",
       "    </tr>\n",
       "  </tbody>\n",
       "</table>\n",
       "<p>5 rows × 83 columns</p>\n",
       "</div>"
      ],
      "text/plain": [
       "         id Target_Salary Target_Satisfied     LOAN_AMT  \\\n",
       "1  68407277         42405                0   $3,600.00    \n",
       "2  68355089         60740                1  $24,700.00    \n",
       "3  68341763      51907.68                0  $20,000.00    \n",
       "4  66310712      51907.68                0  $35,000.00    \n",
       "5  68476807            35                1  $10,400.00    \n",
       "\n",
       "                                      Business Title  \\\n",
       "1                                    Account Manager   \n",
       "2           EXECUTIVE DIRECTOR, BUSINESS DEVELOPMENT   \n",
       "3  Maintenance Worker - Technical Services-Heatin...   \n",
       "4  Maintenance Worker - Technical Services-Heatin...   \n",
       "5                                  Temporary Painter   \n",
       "\n",
       "              Civil Service Title              Division/Work Unit  \\\n",
       "1  CONTRACT REVIEWER (OFFICE OF L            Strategy & Analytics   \n",
       "2  ADMINISTRATIVE BUSINESS PROMOT            Tech Talent Pipeline   \n",
       "3              MAINTENANCE WORKER  Management Services Department   \n",
       "4              MAINTENANCE WORKER  Management Services Department   \n",
       "5                         PAINTER   Dept of Management & Planning   \n",
       "\n",
       "                                     Job Description  \\\n",
       "1  Division of Economic & Financial Opportunity (...   \n",
       "2  The New York City Department of Small Business...   \n",
       "3  Under direct supervision, assist in the routin...   \n",
       "4  Under direct supervision, assist in the routin...   \n",
       "5  Responsibilities of selected candidates will i...   \n",
       "\n",
       "                           Minimum Qual Requirements  \\\n",
       "1  1.\\tA baccalaureate degree from an accredited ...   \n",
       "2  1. A baccalaureate degree from an accredited c...   \n",
       "3  1. Three years of full-time satisfactory exper...   \n",
       "4  1. Three years of full-time satisfactory exper...   \n",
       "5  1. Five years of full-time satisfactory experi...   \n",
       "\n",
       "                                    Preferred Skills  ...  \\\n",
       "1  â€¢\\tExcellent interpersonal and organizationa...  ...   \n",
       "2                                                     ...   \n",
       "3  1.  A High School Diploma or GED.  2.  CDL Dri...  ...   \n",
       "4  1.  A High School Diploma or GED.  2.  CDL Dri...  ...   \n",
       "5                                                     ...   \n",
       "\n",
       "                                 homeaddress     latitude     longitude  \\\n",
       "1     346 W Magnolia Ave Auburn, AL 36832 US  32.60681297  -85.48732833   \n",
       "2      300 20th St S Birmingham, AL 35233 US   33.5097215  -86.80275567   \n",
       "3     3220 Morrow Rd Birmingham, AL 35235 US  33.59558141  -86.64743685   \n",
       "4   4719 Highway 280 Birmingham, AL 35242 US  33.42258215  -86.69827947   \n",
       "5  1821 Cherokee Ave SW Cullman, AL 35055 US  34.15413377  -86.84122008   \n",
       "\n",
       "            PHONE                                      officeaddress  \\\n",
       "1  (91) 555 22 82           PO Box 4653, Stockton, California, 95204   \n",
       "2                         157 Adams St., Stockton, California, 95204   \n",
       "3                       1950 W Freemont, Stockton, California, 95203   \n",
       "4      2125557818         102 S. State St., Ukiah, California, 95482   \n",
       "5      26.47.1555  13011 Newport Ave. #100, Tustin, California, 9...   \n",
       "\n",
       "                          website             dateAdded     previousaddress  \\\n",
       "1      http://www.valleybrew.com/  2016-04-22T02:47:48Z  1045 San Pablo Ave   \n",
       "2      http://www.valleybrew.com/  2016-04-22T02:47:48Z  1045 San Pablo Ave   \n",
       "3      http://www.valleybrew.com/  2016-04-22T02:47:48Z  1045 San Pablo Ave   \n",
       "4  http://www.ukiahbrewingco.com/  2016-04-22T02:47:48Z  1045 San Pablo Ave   \n",
       "5   http://www.tustinbrewery.com/  2016-04-22T02:47:48Z  1045 San Pablo Ave   \n",
       "\n",
       "           phones CrimeTime  \n",
       "1  (510) 528-2375  23:30:00  \n",
       "2  (510) 528-2375  23:00:00  \n",
       "3  (510) 528-2375  22:53:00  \n",
       "4  (510) 528-2375  22:50:00  \n",
       "5  (510) 528-2375  22:31:00  \n",
       "\n",
       "[5 rows x 83 columns]"
      ]
     },
     "execution_count": 7,
     "metadata": {},
     "output_type": "execute_result"
    }
   ],
   "source": [
    "df.head()"
   ]
  },
  {
   "cell_type": "code",
   "execution_count": 8,
   "metadata": {},
   "outputs": [
    {
     "data": {
      "text/plain": [
       "(2946, 83)"
      ]
     },
     "execution_count": 8,
     "metadata": {},
     "output_type": "execute_result"
    }
   ],
   "source": [
    "df.shape  #data contain 2946 rows and 83 columns where 2 have target columns and 81 attribute present in data"
   ]
  },
  {
   "cell_type": "code",
   "execution_count": 9,
   "metadata": {},
   "outputs": [
    {
     "name": "stdout",
     "output_type": "stream",
     "text": [
      "<class 'pandas.core.frame.DataFrame'>\n",
      "Int64Index: 2946 entries, 1 to 2946\n",
      "Data columns (total 83 columns):\n",
      " #   Column                      Non-Null Count  Dtype \n",
      "---  ------                      --------------  ----- \n",
      " 0   id                          2946 non-null   object\n",
      " 1   Target_Salary               2946 non-null   object\n",
      " 2   Target_Satisfied            2946 non-null   object\n",
      " 3   LOAN_AMT                    2946 non-null   object\n",
      " 4   Business Title              2946 non-null   object\n",
      " 5   Civil Service Title         2946 non-null   object\n",
      " 6   Division/Work Unit          2946 non-null   object\n",
      " 7   Job Description             2946 non-null   object\n",
      " 8   Minimum Qual Requirements   2946 non-null   object\n",
      " 9   Preferred Skills            2946 non-null   object\n",
      " 10  Additional Information      2946 non-null   object\n",
      " 11  To Apply                    2946 non-null   object\n",
      " 12  Hours/Shift                 2946 non-null   object\n",
      " 13  Residency Requirement       2946 non-null   object\n",
      " 14  Posting Date                2946 non-null   object\n",
      " 15  Posting Updated             2946 non-null   object\n",
      " 16  Process Date                2946 non-null   object\n",
      " 17  FormalEducation             2946 non-null   object\n",
      " 18  UndergradMajor              2946 non-null   object\n",
      " 19  CompanySize                 2946 non-null   object\n",
      " 20  DevType                     2946 non-null   object\n",
      " 21  YearsCoding                 2946 non-null   object\n",
      " 22  YearsCodingProf             2946 non-null   object\n",
      " 23  HopeFiveYears               2946 non-null   object\n",
      " 24  JobSearchStatus             2946 non-null   object\n",
      " 25  LastNewJob                  2946 non-null   object\n",
      " 26  UpdateCV                    2946 non-null   object\n",
      " 27  CommunicationTools          2946 non-null   object\n",
      " 28  TimeFullyProductive         2946 non-null   object\n",
      " 29  EducationTypes              2946 non-null   object\n",
      " 30  SelfTaughtTypes             2946 non-null   object\n",
      " 31  TimeAfterBootcamp           2946 non-null   object\n",
      " 32  HackathonReasons            2946 non-null   object\n",
      " 33  AgreeDisagree1              2946 non-null   object\n",
      " 34  AgreeDisagree2              2946 non-null   object\n",
      " 35  AgreeDisagree3              2946 non-null   object\n",
      " 36  LanguageWorkedWith          2946 non-null   object\n",
      " 37  LanguageDesireNextYear      2946 non-null   object\n",
      " 38  DatabaseWorkedWith          2946 non-null   object\n",
      " 39  DatabaseDesireNextYear      2946 non-null   object\n",
      " 40  PlatformWorkedWith          2946 non-null   object\n",
      " 41  PlatformDesireNextYear      2946 non-null   object\n",
      " 42  FrameworkWorkedWith         2946 non-null   object\n",
      " 43  FrameworkDesireNextYear     2946 non-null   object\n",
      " 44  IDE                         2946 non-null   object\n",
      " 45  OperatingSystem             2946 non-null   object\n",
      " 46  Methodology                 2946 non-null   object\n",
      " 47  VersionControl              2946 non-null   object\n",
      " 48  CheckInCode                 2946 non-null   object\n",
      " 49  AIDangerous                 2946 non-null   object\n",
      " 50  AIInteresting               2946 non-null   object\n",
      " 51  AIResponsible               2946 non-null   object\n",
      " 52  AIFuture                    2946 non-null   object\n",
      " 53  Age                         2946 non-null   object\n",
      " 54  term                        2946 non-null   object\n",
      " 55  loan_status                 2946 non-null   object\n",
      " 56  pymnt_plan                  2946 non-null   object\n",
      " 57  orignal_website_directory   2946 non-null   object\n",
      " 58  purpose                     2946 non-null   object\n",
      " 59  title                       2946 non-null   object\n",
      " 60  zip_code                    2946 non-null   object\n",
      " 61  addr_state                  2946 non-null   object\n",
      " 62  dti                         2946 non-null   object\n",
      " 63  earliest_cr_line            2946 non-null   object\n",
      " 64  last_pymnt_d                2946 non-null   object\n",
      " 65  last_pymnt_amnt             2946 non-null   object\n",
      " 66  next_pymnt_d                2946 non-null   object\n",
      " 67  last_credit_pull_d          2946 non-null   object\n",
      " 68  Time                        2946 non-null   object\n",
      " 69  emp_length                  2946 non-null   object\n",
      " 70  your_favoritearticle_today  2946 non-null   object\n",
      " 71  url                         2946 non-null   object\n",
      " 72  Email                       2946 non-null   object\n",
      " 73  homeaddress                 2946 non-null   object\n",
      " 74  latitude                    2946 non-null   object\n",
      " 75  longitude                   2946 non-null   object\n",
      " 76  PHONE                       2946 non-null   object\n",
      " 77  officeaddress               2946 non-null   object\n",
      " 78  website                     2946 non-null   object\n",
      " 79  dateAdded                   2946 non-null   object\n",
      " 80  previousaddress             2946 non-null   object\n",
      " 81  phones                      2946 non-null   object\n",
      " 82  CrimeTime                   2946 non-null   object\n",
      "dtypes: object(83)\n",
      "memory usage: 1.9+ MB\n"
     ]
    }
   ],
   "source": [
    "df.info()  #from this we see information about data"
   ]
  },
  {
   "cell_type": "code",
   "execution_count": 10,
   "metadata": {
    "scrolled": false
   },
   "outputs": [
    {
     "data": {
      "text/html": [
       "<div>\n",
       "<style scoped>\n",
       "    .dataframe tbody tr th:only-of-type {\n",
       "        vertical-align: middle;\n",
       "    }\n",
       "\n",
       "    .dataframe tbody tr th {\n",
       "        vertical-align: top;\n",
       "    }\n",
       "\n",
       "    .dataframe thead th {\n",
       "        text-align: right;\n",
       "    }\n",
       "</style>\n",
       "<table border=\"1\" class=\"dataframe\">\n",
       "  <thead>\n",
       "    <tr style=\"text-align: right;\">\n",
       "      <th></th>\n",
       "      <th>id</th>\n",
       "      <th>Target_Salary</th>\n",
       "      <th>Target_Satisfied</th>\n",
       "      <th>LOAN_AMT</th>\n",
       "      <th>Business Title</th>\n",
       "      <th>Civil Service Title</th>\n",
       "      <th>Division/Work Unit</th>\n",
       "      <th>Job Description</th>\n",
       "      <th>Minimum Qual Requirements</th>\n",
       "      <th>Preferred Skills</th>\n",
       "      <th>...</th>\n",
       "      <th>homeaddress</th>\n",
       "      <th>latitude</th>\n",
       "      <th>longitude</th>\n",
       "      <th>PHONE</th>\n",
       "      <th>officeaddress</th>\n",
       "      <th>website</th>\n",
       "      <th>dateAdded</th>\n",
       "      <th>previousaddress</th>\n",
       "      <th>phones</th>\n",
       "      <th>CrimeTime</th>\n",
       "    </tr>\n",
       "  </thead>\n",
       "  <tbody>\n",
       "    <tr>\n",
       "      <th>count</th>\n",
       "      <td>2946</td>\n",
       "      <td>2946</td>\n",
       "      <td>2946</td>\n",
       "      <td>2946</td>\n",
       "      <td>2946</td>\n",
       "      <td>2946</td>\n",
       "      <td>2946</td>\n",
       "      <td>2946</td>\n",
       "      <td>2946</td>\n",
       "      <td>2946</td>\n",
       "      <td>...</td>\n",
       "      <td>2946</td>\n",
       "      <td>2946</td>\n",
       "      <td>2946</td>\n",
       "      <td>2946</td>\n",
       "      <td>2946</td>\n",
       "      <td>2946</td>\n",
       "      <td>2946</td>\n",
       "      <td>2946</td>\n",
       "      <td>2946</td>\n",
       "      <td>2946</td>\n",
       "    </tr>\n",
       "    <tr>\n",
       "      <th>unique</th>\n",
       "      <td>2946</td>\n",
       "      <td>519</td>\n",
       "      <td>2</td>\n",
       "      <td>492</td>\n",
       "      <td>1244</td>\n",
       "      <td>312</td>\n",
       "      <td>678</td>\n",
       "      <td>1608</td>\n",
       "      <td>337</td>\n",
       "      <td>1283</td>\n",
       "      <td>...</td>\n",
       "      <td>2630</td>\n",
       "      <td>2630</td>\n",
       "      <td>2630</td>\n",
       "      <td>25</td>\n",
       "      <td>2332</td>\n",
       "      <td>1371</td>\n",
       "      <td>37</td>\n",
       "      <td>48</td>\n",
       "      <td>46</td>\n",
       "      <td>754</td>\n",
       "    </tr>\n",
       "    <tr>\n",
       "      <th>top</th>\n",
       "      <td>68596708</td>\n",
       "      <td>52524</td>\n",
       "      <td>0</td>\n",
       "      <td>$15,000.00</td>\n",
       "      <td>Assistant Civil Engineer</td>\n",
       "      <td>COMMUNITY COORDINATOR</td>\n",
       "      <td>Executive Management</td>\n",
       "      <td>The New York City Taxi and Limousine Commissio...</td>\n",
       "      <td>1. A baccalaureate degree from an accredited c...</td>\n",
       "      <td></td>\n",
       "      <td>...</td>\n",
       "      <td></td>\n",
       "      <td></td>\n",
       "      <td></td>\n",
       "      <td></td>\n",
       "      <td></td>\n",
       "      <td>...</td>\n",
       "      <td>2017-07-02T02:34:33Z</td>\n",
       "      <td>311 W 43rd St</td>\n",
       "      <td>(212) 776-1818</td>\n",
       "      <td>22:00:00</td>\n",
       "    </tr>\n",
       "    <tr>\n",
       "      <th>freq</th>\n",
       "      <td>1</td>\n",
       "      <td>82</td>\n",
       "      <td>2327</td>\n",
       "      <td>203</td>\n",
       "      <td>33</td>\n",
       "      <td>182</td>\n",
       "      <td>56</td>\n",
       "      <td>14</td>\n",
       "      <td>182</td>\n",
       "      <td>393</td>\n",
       "      <td>...</td>\n",
       "      <td>317</td>\n",
       "      <td>317</td>\n",
       "      <td>317</td>\n",
       "      <td>2231</td>\n",
       "      <td>539</td>\n",
       "      <td>557</td>\n",
       "      <td>375</td>\n",
       "      <td>375</td>\n",
       "      <td>375</td>\n",
       "      <td>70</td>\n",
       "    </tr>\n",
       "  </tbody>\n",
       "</table>\n",
       "<p>4 rows × 83 columns</p>\n",
       "</div>"
      ],
      "text/plain": [
       "              id Target_Salary Target_Satisfied     LOAN_AMT  \\\n",
       "count       2946          2946             2946         2946   \n",
       "unique      2946           519                2          492   \n",
       "top     68596708         52524                0  $15,000.00    \n",
       "freq           1            82             2327          203   \n",
       "\n",
       "                  Business Title    Civil Service Title    Division/Work Unit  \\\n",
       "count                       2946                   2946                  2946   \n",
       "unique                      1244                    312                   678   \n",
       "top     Assistant Civil Engineer  COMMUNITY COORDINATOR  Executive Management   \n",
       "freq                          33                    182                    56   \n",
       "\n",
       "                                          Job Description  \\\n",
       "count                                                2946   \n",
       "unique                                               1608   \n",
       "top     The New York City Taxi and Limousine Commissio...   \n",
       "freq                                                   14   \n",
       "\n",
       "                                Minimum Qual Requirements Preferred Skills  \\\n",
       "count                                                2946             2946   \n",
       "unique                                                337             1283   \n",
       "top     1. A baccalaureate degree from an accredited c...                    \n",
       "freq                                                  182              393   \n",
       "\n",
       "        ... homeaddress latitude longitude PHONE officeaddress  \\\n",
       "count   ...        2946     2946      2946  2946          2946   \n",
       "unique  ...        2630     2630      2630    25          2332   \n",
       "top     ...                                                      \n",
       "freq    ...         317      317       317  2231           539   \n",
       "\n",
       "                                                  website  \\\n",
       "count                                                2946   \n",
       "unique                                               1371   \n",
       "top                                                   ...   \n",
       "freq                                                  557   \n",
       "\n",
       "                   dateAdded previousaddress          phones CrimeTime  \n",
       "count                   2946            2946            2946      2946  \n",
       "unique                    37              48              46       754  \n",
       "top     2017-07-02T02:34:33Z   311 W 43rd St  (212) 776-1818  22:00:00  \n",
       "freq                     375             375             375        70  \n",
       "\n",
       "[4 rows x 83 columns]"
      ]
     },
     "execution_count": 10,
     "metadata": {},
     "output_type": "execute_result"
    }
   ],
   "source": [
    "df.describe()  #from descibe function I got some stastical information about data"
   ]
  },
  {
   "cell_type": "code",
   "execution_count": 11,
   "metadata": {},
   "outputs": [
    {
     "data": {
      "text/plain": [
       "id                  object\n",
       "Target_Salary       object\n",
       "Target_Satisfied    object\n",
       "LOAN_AMT            object\n",
       "Business Title      object\n",
       "                     ...  \n",
       "website             object\n",
       "dateAdded           object\n",
       "previousaddress     object\n",
       "phones              object\n",
       "CrimeTime           object\n",
       "Length: 83, dtype: object"
      ]
     },
     "execution_count": 11,
     "metadata": {},
     "output_type": "execute_result"
    }
   ],
   "source": [
    "df.dtypes"
   ]
  },
  {
   "cell_type": "code",
   "execution_count": 12,
   "metadata": {},
   "outputs": [],
   "source": [
    "#data contain all object columns need to convert it into numeric "
   ]
  },
  {
   "cell_type": "code",
   "execution_count": 13,
   "metadata": {},
   "outputs": [],
   "source": [
    "df['Target_Salary']=pd.to_numeric(df['Target_Salary'])"
   ]
  },
  {
   "cell_type": "code",
   "execution_count": 14,
   "metadata": {},
   "outputs": [],
   "source": [
    "df['Target_Satisfied']=pd.to_numeric(df['Target_Satisfied'])"
   ]
  },
  {
   "cell_type": "code",
   "execution_count": 15,
   "metadata": {},
   "outputs": [],
   "source": [
    "df['LOAN_AMT']=df['LOAN_AMT'].str.replace('$','')\n",
    "df['LOAN_AMT']=df['LOAN_AMT'].str.replace(',','').astype(float)"
   ]
  },
  {
   "cell_type": "code",
   "execution_count": 16,
   "metadata": {},
   "outputs": [],
   "source": [
    "df['dti']=pd.to_numeric(df['dti'])"
   ]
  },
  {
   "cell_type": "code",
   "execution_count": 17,
   "metadata": {},
   "outputs": [],
   "source": [
    "df['last_pymnt_amnt']=pd.to_numeric(df['last_pymnt_amnt'])"
   ]
  },
  {
   "cell_type": "code",
   "execution_count": 18,
   "metadata": {},
   "outputs": [],
   "source": [
    "df['latitude']=pd.to_numeric(df['latitude'])\n",
    "df['longitude']=pd.to_numeric(df['longitude'])"
   ]
  },
  {
   "cell_type": "code",
   "execution_count": 19,
   "metadata": {},
   "outputs": [],
   "source": [
    "df['term']=df['term'].str.replace('months','')\n",
    "df['term']=df['term'].str.replace(',','').astype(int)"
   ]
  },
  {
   "cell_type": "code",
   "execution_count": 20,
   "metadata": {},
   "outputs": [],
   "source": [
    "#data contain 81 attributes some attributes are not important for building ML model so i deleted unnecessary columns\n",
    "df.drop(['id','homeaddress','PHONE','officeaddress','website','previousaddress','phones','CrimeTime',\n",
    "         'Additional Information','your_favoritearticle_today','Posting Date','Posting Updated',\n",
    "        'Process Date','UpdateCV','CommunicationTools','TimeFullyProductive','EducationTypes','AgreeDisagree2',\n",
    "         'AgreeDisagree3','LanguageDesireNextYear','DatabaseDesireNextYear','PlatformDesireNextYear',\n",
    "        'FrameworkDesireNextYear','Methodology','VersionControl','pymnt_plan','orignal_website_directory',\n",
    "        'zip_code','earliest_cr_line','last_pymnt_d','next_pymnt_d','last_credit_pull_d',\n",
    "        'Time','your_favoritearticle_today','url','Email'],axis=1,inplace=True)"
   ]
  },
  {
   "cell_type": "code",
   "execution_count": 21,
   "metadata": {},
   "outputs": [
    {
     "data": {
      "text/plain": [
       "(2946, 48)"
      ]
     },
     "execution_count": 21,
     "metadata": {},
     "output_type": "execute_result"
    }
   ],
   "source": [
    "df.shape   #now 48 columns in dataset"
   ]
  },
  {
   "cell_type": "code",
   "execution_count": 24,
   "metadata": {},
   "outputs": [
    {
     "name": "stderr",
     "output_type": "stream",
     "text": [
      "<ipython-input-24-ca565e17ed60>:6: DeprecationWarning: Converting `np.inexact` or `np.floating` to a dtype is deprecated. The current result is `float64` which is not strictly correct.\n",
      "  if df[column].dtype==np.number:\n"
     ]
    }
   ],
   "source": [
    " #converting non-numeric columns into numeric using scikit learn  label encoder\n",
    "\n",
    "from sklearn.preprocessing import LabelEncoder\n",
    "\n",
    "for column in df.columns:\n",
    "    if df[column].dtype==np.number:\n",
    "        continue\n",
    "    df[column]=LabelEncoder().fit_transform(df[column])     "
   ]
  },
  {
   "cell_type": "code",
   "execution_count": 25,
   "metadata": {},
   "outputs": [
    {
     "data": {
      "text/plain": [
       "Target_Salary                float64\n",
       "Target_Satisfied               int64\n",
       "LOAN_AMT                     float64\n",
       "Business Title                 int32\n",
       "Civil Service Title            int32\n",
       "Division/Work Unit             int32\n",
       "Job Description                int32\n",
       "Minimum Qual Requirements      int32\n",
       "Preferred Skills               int32\n",
       "To Apply                       int32\n",
       "Hours/Shift                    int32\n",
       "Residency Requirement          int32\n",
       "FormalEducation                int32\n",
       "UndergradMajor                 int32\n",
       "CompanySize                    int32\n",
       "DevType                        int32\n",
       "YearsCoding                    int32\n",
       "YearsCodingProf                int32\n",
       "HopeFiveYears                  int32\n",
       "JobSearchStatus                int32\n",
       "LastNewJob                     int32\n",
       "SelfTaughtTypes                int32\n",
       "TimeAfterBootcamp              int32\n",
       "HackathonReasons               int32\n",
       "AgreeDisagree1                 int32\n",
       "LanguageWorkedWith             int32\n",
       "DatabaseWorkedWith             int32\n",
       "PlatformWorkedWith             int32\n",
       "FrameworkWorkedWith            int32\n",
       "IDE                            int32\n",
       "OperatingSystem                int32\n",
       "CheckInCode                    int32\n",
       "AIDangerous                    int32\n",
       "AIInteresting                  int32\n",
       "AIResponsible                  int32\n",
       "AIFuture                       int32\n",
       "Age                            int32\n",
       "term                           int64\n",
       "loan_status                    int32\n",
       "purpose                        int32\n",
       "title                          int32\n",
       "addr_state                     int32\n",
       "dti                          float64\n",
       "last_pymnt_amnt              float64\n",
       "emp_length                     int32\n",
       "latitude                     float64\n",
       "longitude                    float64\n",
       "dateAdded                      int32\n",
       "dtype: object"
      ]
     },
     "execution_count": 25,
     "metadata": {},
     "output_type": "execute_result"
    }
   ],
   "source": [
    "#we can see all columns are now in numeric \n",
    "df.dtypes"
   ]
  },
  {
   "cell_type": "code",
   "execution_count": 27,
   "metadata": {},
   "outputs": [
    {
     "data": {
      "text/plain": [
       "Target_Salary                  0\n",
       "Target_Satisfied               0\n",
       "LOAN_AMT                       0\n",
       "Business Title                 0\n",
       "Civil Service Title            0\n",
       "Division/Work Unit             0\n",
       "Job Description                0\n",
       "Minimum Qual Requirements      0\n",
       "Preferred Skills               0\n",
       "To Apply                       0\n",
       "Hours/Shift                    0\n",
       "Residency Requirement          0\n",
       "FormalEducation                0\n",
       "UndergradMajor                 0\n",
       "CompanySize                    0\n",
       "DevType                        0\n",
       "YearsCoding                    0\n",
       "YearsCodingProf                0\n",
       "HopeFiveYears                  0\n",
       "JobSearchStatus                0\n",
       "LastNewJob                     0\n",
       "SelfTaughtTypes                0\n",
       "TimeAfterBootcamp              0\n",
       "HackathonReasons               0\n",
       "AgreeDisagree1                 0\n",
       "LanguageWorkedWith             0\n",
       "DatabaseWorkedWith             0\n",
       "PlatformWorkedWith             0\n",
       "FrameworkWorkedWith            0\n",
       "IDE                            0\n",
       "OperatingSystem                0\n",
       "CheckInCode                    0\n",
       "AIDangerous                    0\n",
       "AIInteresting                  0\n",
       "AIResponsible                  0\n",
       "AIFuture                       0\n",
       "Age                            0\n",
       "term                           0\n",
       "loan_status                    0\n",
       "purpose                        0\n",
       "title                          0\n",
       "addr_state                     0\n",
       "dti                            0\n",
       "last_pymnt_amnt                0\n",
       "emp_length                     0\n",
       "latitude                     317\n",
       "longitude                    317\n",
       "dateAdded                      0\n",
       "dtype: int64"
      ]
     },
     "execution_count": 27,
     "metadata": {},
     "output_type": "execute_result"
    }
   ],
   "source": [
    "#checking for missing values in data\n",
    "df.isnull().sum()"
   ]
  },
  {
   "cell_type": "code",
   "execution_count": 28,
   "metadata": {},
   "outputs": [],
   "source": [
    "#filling missing values\n",
    "df['latitude']=df['latitude'].fillna(df['latitude'].mean())\n",
    "df['longitude']=df['longitude'].fillna(df['longitude'].mean())"
   ]
  },
  {
   "cell_type": "code",
   "execution_count": 29,
   "metadata": {},
   "outputs": [],
   "source": [
    "#defining label and features for target salary problem \n",
    "x=df.drop(['Target_Salary'],axis=1)\n",
    "y=df['Target_Salary']"
   ]
  },
  {
   "cell_type": "code",
   "execution_count": 30,
   "metadata": {},
   "outputs": [
    {
     "name": "stderr",
     "output_type": "stream",
     "text": [
      "C:\\Users\\Komal\\anaconda3\\anaconda\\lib\\site-packages\\seaborn\\distributions.py:2551: FutureWarning: `distplot` is a deprecated function and will be removed in a future version. Please adapt your code to use either `displot` (a figure-level function with similar flexibility) or `histplot` (an axes-level function for histograms).\n",
      "  warnings.warn(msg, FutureWarning)\n"
     ]
    },
    {
     "data": {
      "text/plain": [
       "<AxesSubplot:ylabel='Density'>"
      ]
     },
     "execution_count": 30,
     "metadata": {},
     "output_type": "execute_result"
    },
    {
     "data": {
      "image/png": "[encoded data removed]",
      "text/plain": [
       "<Figure size 432x288 with 1 Axes>"
      ]
     },
     "metadata": {
      "needs_background": "light"
     },
     "output_type": "display_data"
    }
   ],
   "source": [
    "sns.distplot(x)   #data is positive skewed"
   ]
  },
  {
   "cell_type": "code",
   "execution_count": 31,
   "metadata": {},
   "outputs": [],
   "source": [
    "#data is converted standard scaling\n",
    "sc=StandardScaler()\n",
    "scaled_data=sc.fit_transform(x)    "
   ]
  },
  {
   "cell_type": "code",
   "execution_count": 33,
   "metadata": {},
   "outputs": [
    {
     "name": "stderr",
     "output_type": "stream",
     "text": [
      "C:\\Users\\Komal\\anaconda3\\anaconda\\lib\\site-packages\\seaborn\\distributions.py:2551: FutureWarning: `distplot` is a deprecated function and will be removed in a future version. Please adapt your code to use either `displot` (a figure-level function with similar flexibility) or `histplot` (an axes-level function for histograms).\n",
      "  warnings.warn(msg, FutureWarning)\n"
     ]
    },
    {
     "data": {
      "text/plain": [
       "<AxesSubplot:ylabel='Density'>"
      ]
     },
     "execution_count": 33,
     "metadata": {},
     "output_type": "execute_result"
    },
    {
     "data": {
      "image/png": "[encoded data removed]",
      "text/plain": [
       "<Figure size 432x288 with 1 Axes>"
      ]
     },
     "metadata": {
      "needs_background": "light"
     },
     "output_type": "display_data"
    }
   ],
   "source": [
    "#now data is converted nearly normal distribution\n",
    "sns.distplot(scaled_data)"
   ]
  },
  {
   "cell_type": "markdown",
   "metadata": {},
   "source": [
    "# ___Regression Promblem for  Target Salary"
   ]
  },
  {
   "cell_type": "code",
   "execution_count": 141,
   "metadata": {},
   "outputs": [],
   "source": [
    "#data is splited into train_test_split\n",
    "x_train,x_test,y_train,y_test=train_test_split(scaled_data,y,test_size=0.20,random_state=43)"
   ]
  },
  {
   "cell_type": "code",
   "execution_count": 142,
   "metadata": {},
   "outputs": [
    {
     "data": {
      "text/plain": [
       "RandomForestRegressor()"
      ]
     },
     "execution_count": 142,
     "metadata": {},
     "output_type": "execute_result"
    }
   ],
   "source": [
    "#randon forest model is intialize\n",
    "model=RandomForestRegressor()\n",
    "model.fit(x_train,y_train)"
   ]
  },
  {
   "cell_type": "code",
   "execution_count": 143,
   "metadata": {},
   "outputs": [
    {
     "data": {
      "text/plain": [
       "0.6716176782768373"
      ]
     },
     "execution_count": 143,
     "metadata": {},
     "output_type": "execute_result"
    }
   ],
   "source": [
    "#accuracy score of random forest regressor\n",
    "model.score(x_test,y_test)"
   ]
  },
  {
   "cell_type": "code",
   "execution_count": 144,
   "metadata": {},
   "outputs": [],
   "source": [
    "y_pred=model.predict(x_test)"
   ]
  },
  {
   "cell_type": "code",
   "execution_count": 145,
   "metadata": {},
   "outputs": [
    {
     "name": "stdout",
     "output_type": "stream",
     "text": [
      "Root Mean Squared Error 122.94085575326493\n"
     ]
    }
   ],
   "source": [
    "#calculate rmse for model\n",
    "mse=mean_squared_error(y_test,y_pred)\n",
    "rmse=np.sqrt(mse)\n",
    "print('Root Mean Squared Error',rmse)"
   ]
  },
  {
   "cell_type": "markdown",
   "metadata": {},
   "source": [
    "# Root Mean Squared Error 122.94085575326493"
   ]
  },
  {
   "cell_type": "markdown",
   "metadata": {},
   "source": [
    "# _____Classification problem for Target satisfied"
   ]
  },
  {
   "cell_type": "code",
   "execution_count": 68,
   "metadata": {},
   "outputs": [],
   "source": [
    "#creating xlabel and feature for target satisfied\n",
    "x1=df.drop(['Target_Satisfied'],axis=1)\n",
    "y1=df['Target_Satisfied']"
   ]
  },
  {
   "cell_type": "code",
   "execution_count": 69,
   "metadata": {},
   "outputs": [],
   "source": [
    "x_train,x_test,y_train,y_test=train_test_split(x1,y1,test_size=0.20,random_state=42)"
   ]
  },
  {
   "cell_type": "code",
   "execution_count": 70,
   "metadata": {},
   "outputs": [
    {
     "data": {
      "text/plain": [
       "RandomForestClassifier(criterion='entropy', n_estimators=10, random_state=42)"
      ]
     },
     "execution_count": 70,
     "metadata": {},
     "output_type": "execute_result"
    }
   ],
   "source": [
    "model1=RandomForestClassifier(n_estimators=10,criterion='entropy',random_state=42)\n",
    "model1.fit(x_train,y_train)"
   ]
  },
  {
   "cell_type": "code",
   "execution_count": 71,
   "metadata": {},
   "outputs": [
    {
     "data": {
      "text/plain": [
       "0.7949152542372881"
      ]
     },
     "execution_count": 71,
     "metadata": {},
     "output_type": "execute_result"
    }
   ],
   "source": [
    "model1.score(x_test,y_test)"
   ]
  },
  {
   "cell_type": "code",
   "execution_count": 72,
   "metadata": {},
   "outputs": [],
   "source": [
    "y_preds=model1.predict(x_test)"
   ]
  },
  {
   "cell_type": "code",
   "execution_count": 73,
   "metadata": {},
   "outputs": [
    {
     "name": "stdout",
     "output_type": "stream",
     "text": [
      "              precision    recall  f1-score   support\n",
      "\n",
      "           0       0.81      0.98      0.89       478\n",
      "           1       0.15      0.02      0.03       112\n",
      "\n",
      "    accuracy                           0.79       590\n",
      "   macro avg       0.48      0.50      0.46       590\n",
      "weighted avg       0.68      0.79      0.72       590\n",
      "\n"
     ]
    }
   ],
   "source": [
    "from sklearn.metrics import classification_report\n",
    "\n",
    "cr=classification_report(y_test,y_preds)\n",
    "print(cr)"
   ]
  },
  {
   "cell_type": "markdown",
   "metadata": {},
   "source": [
    "# Weighted F1 = 0.72"
   ]
  },
  {
   "cell_type": "code",
   "execution_count": null,
   "metadata": {},
   "outputs": [],
   "source": []
  }
 ],
 "metadata": {
  "kernelspec": {
   "display_name": "Python 3",
   "language": "python",
   "name": "python3"
  },
  "language_info": {
   "codemirror_mode": {
    "name": "ipython",
    "version": 3
   },
   "file_extension": ".py",
   "mimetype": "text/x-python",
   "name": "python",
   "nbconvert_exporter": "python",
   "pygments_lexer": "ipython3",
   "version": "3.8.5"
  }
 },
 "nbformat": 4,
 "nbformat_minor": 4
}
